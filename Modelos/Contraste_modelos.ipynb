{
 "cells": [
  {
   "cell_type": "code",
   "execution_count": 1,
   "metadata": {},
   "outputs": [],
   "source": [
    "import pickle\n",
    "from sklearn.metrics import classification_report, confusion_matrix, accuracy_score"
   ]
  },
  {
   "cell_type": "code",
   "execution_count": 2,
   "metadata": {},
   "outputs": [],
   "source": [
    "path_X_1996 = \"pickle/X_1996.pickle\"\n",
    "with open(path_X_1996, \"rb\") as data:\n",
    "    X_1996 = pickle.load(data)\n",
    "    \n",
    "path_y_1996 = \"pickle/y_1996.pickle\"\n",
    "with open(path_y_1996, \"rb\") as data:\n",
    "    y_1996 = pickle.load(data)\n",
    "    \n",
    "path_SVC = \"models/best_svc.pickle\"\n",
    "with open(path_SVC, \"rb\") as data:\n",
    "    SVC = pickle.load(data)\n",
    "    \n",
    "path_rf = \"models/best_rf.pickle\"\n",
    "with open(path_rf, \"rb\") as data:\n",
    "    rf = pickle.load(data)\n",
    "    \n",
    "path_mnbc = \"models/mnbc.pickle\"\n",
    "with open(path_mnbc, \"rb\") as data:\n",
    "    mnbc = pickle.load(data)\n",
    "    \n",
    "path_lr = \"models/best_lrc.pickle\"\n",
    "with open(path_lr, \"rb\") as data:\n",
    "    lr = pickle.load(data)\n",
    "    \n",
    "path_gbc = \"models/best_gbc.pickle\"\n",
    "with open(path_gbc, \"rb\") as data:\n",
    "    gbc = pickle.load(data)\n",
    "    \n",
    "path_lSVC = \"models/best_lSVC.pickle\"\n",
    "with open(path_lSVC, \"rb\") as data:\n",
    "    lSVC = pickle.load(data)"
   ]
  },
  {
   "cell_type": "code",
   "execution_count": 3,
   "metadata": {},
   "outputs": [],
   "source": [
    "y_pred = SVC.predict(X_1996)"
   ]
  },
  {
   "cell_type": "code",
   "execution_count": 15,
   "metadata": {},
   "outputs": [
    {
     "name": "stdout",
     "output_type": "stream",
     "text": [
      "0.6140724946695096\n"
     ]
    }
   ],
   "source": [
    "print(accuracy_score(y_1996, y_pred))"
   ]
  },
  {
   "cell_type": "code",
   "execution_count": null,
   "metadata": {},
   "outputs": [],
   "source": []
  },
  {
   "cell_type": "code",
   "execution_count": 5,
   "metadata": {},
   "outputs": [],
   "source": [
    "y_pred_rf = rf.predict(X_1996)"
   ]
  },
  {
   "cell_type": "code",
   "execution_count": 6,
   "metadata": {},
   "outputs": [
    {
     "name": "stdout",
     "output_type": "stream",
     "text": [
      "0.5778251599147122\n"
     ]
    }
   ],
   "source": [
    "print(accuracy_score(y_1996, y_pred_rf))"
   ]
  },
  {
   "cell_type": "code",
   "execution_count": null,
   "metadata": {},
   "outputs": [],
   "source": []
  },
  {
   "cell_type": "code",
   "execution_count": 7,
   "metadata": {},
   "outputs": [],
   "source": [
    "y_pred_mnbc = mnbc.predict(X_1996)"
   ]
  },
  {
   "cell_type": "code",
   "execution_count": 8,
   "metadata": {},
   "outputs": [
    {
     "name": "stdout",
     "output_type": "stream",
     "text": [
      "0.6183368869936035\n"
     ]
    }
   ],
   "source": [
    "print(accuracy_score(y_1996, y_pred_mnbc))"
   ]
  },
  {
   "cell_type": "code",
   "execution_count": null,
   "metadata": {},
   "outputs": [],
   "source": []
  },
  {
   "cell_type": "code",
   "execution_count": 9,
   "metadata": {},
   "outputs": [],
   "source": [
    "y_pred_lr = lr.predict(X_1996)"
   ]
  },
  {
   "cell_type": "code",
   "execution_count": 10,
   "metadata": {},
   "outputs": [
    {
     "name": "stdout",
     "output_type": "stream",
     "text": [
      "0.603411513859275\n"
     ]
    }
   ],
   "source": [
    "print(accuracy_score(y_1996, y_pred_lr))"
   ]
  },
  {
   "cell_type": "code",
   "execution_count": null,
   "metadata": {},
   "outputs": [],
   "source": []
  },
  {
   "cell_type": "code",
   "execution_count": 11,
   "metadata": {},
   "outputs": [],
   "source": [
    "y_pred_gbc = gbc.predict(X_1996)"
   ]
  },
  {
   "cell_type": "code",
   "execution_count": 12,
   "metadata": {},
   "outputs": [
    {
     "name": "stdout",
     "output_type": "stream",
     "text": [
      "0.579957356076759\n"
     ]
    }
   ],
   "source": [
    "print(accuracy_score(y_1996, y_pred_gbc))"
   ]
  },
  {
   "cell_type": "code",
   "execution_count": null,
   "metadata": {},
   "outputs": [],
   "source": []
  },
  {
   "cell_type": "code",
   "execution_count": 13,
   "metadata": {},
   "outputs": [],
   "source": [
    "y_pred_lSVC = lSVC.predict(X_1996)"
   ]
  },
  {
   "cell_type": "code",
   "execution_count": 14,
   "metadata": {},
   "outputs": [
    {
     "name": "stdout",
     "output_type": "stream",
     "text": [
      "0.6119402985074627\n"
     ]
    }
   ],
   "source": [
    "print(accuracy_score(y_1996, y_pred_lSVC))"
   ]
  }
 ],
 "metadata": {
  "kernelspec": {
   "display_name": "Python 3",
   "language": "python",
   "name": "python3"
  },
  "language_info": {
   "codemirror_mode": {
    "name": "ipython",
    "version": 3
   },
   "file_extension": ".py",
   "mimetype": "text/x-python",
   "name": "python",
   "nbconvert_exporter": "python",
   "pygments_lexer": "ipython3",
   "version": "3.7.4"
  }
 },
 "nbformat": 4,
 "nbformat_minor": 2
}
