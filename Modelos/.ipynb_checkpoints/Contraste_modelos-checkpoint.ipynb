{
 "cells": [
  {
   "cell_type": "markdown",
   "metadata": {},
   "source": [
    "Contraste de los modelos con los datos sacados de 1996"
   ]
  },
  {
   "cell_type": "code",
   "execution_count": 26,
   "metadata": {},
   "outputs": [],
   "source": [
    "import pickle\n",
    "from sklearn.feature_extraction.text import TfidfVectorizer\n",
    "from sklearn.metrics import classification_report, confusion_matrix, accuracy_score\n",
    "import pandas as pd"
   ]
  },
  {
   "cell_type": "code",
   "execution_count": 2,
   "metadata": {},
   "outputs": [],
   "source": [
    "path_tfidf = \"../pickle/tfidf.pickle\"\n",
    "with open(path_tfidf, \"rb\") as data:\n",
    "    tfidf = pickle.load(data)\n",
    "\n",
    "path_X_1996 = \"../pickle/X_1996.pickle\"\n",
    "with open(path_X_1996, \"rb\") as data:\n",
    "    X_1996 = pickle.load(data)\n",
    "    \n",
    "path_y_1996 = \"../pickle/y_1996.pickle\"\n",
    "with open(path_y_1996, \"rb\") as data:\n",
    "    y_1996 = pickle.load(data)\n",
    "    \n",
    "path_SVC = \"best_svc.pickle\"\n",
    "with open(path_SVC, \"rb\") as data:\n",
    "    SVC = pickle.load(data)\n",
    "    \n",
    "path_rfc = \"best_rfc.pickle\"\n",
    "with open(path_rfc, \"rb\") as data:\n",
    "    rfc = pickle.load(data)\n",
    "    \n",
    "path_mnbc = \"mnbc.pickle\"\n",
    "with open(path_mnbc, \"rb\") as data:\n",
    "    mnbc = pickle.load(data)\n",
    "    \n",
    "path_lr = \"best_lrc.pickle\"\n",
    "with open(path_lr, \"rb\") as data:\n",
    "    lr = pickle.load(data)\n",
    "    \n",
    "path_gbc = \"best_gbc.pickle\"\n",
    "with open(path_gbc, \"rb\") as data:\n",
    "    gbc = pickle.load(data)\n",
    "    \n",
    "path_lsvc = \"best_lsvc.pickle\"\n",
    "with open(path_lsvc, \"rb\") as data:\n",
    "    lsvc = pickle.load(data)"
   ]
  },
  {
   "cell_type": "code",
   "execution_count": 18,
   "metadata": {},
   "outputs": [],
   "source": [
    "modelos = [SVC, rfc, mnbc, lr, gbc, lsvc]"
   ]
  },
  {
   "cell_type": "code",
   "execution_count": 21,
   "metadata": {},
   "outputs": [],
   "source": [
    "values = [model.predict(X_1996) for model in modelos]"
   ]
  },
  {
   "cell_type": "code",
   "execution_count": 24,
   "metadata": {},
   "outputs": [],
   "source": [
    "scores = [accuracy_score(y_1996, y_pred) for y_pred in values]"
   ]
  },
  {
   "cell_type": "code",
   "execution_count": 30,
   "metadata": {},
   "outputs": [],
   "source": [
    "df = pd.DataFrame(list(zip(modelos, scores)), columns =[\"Modelos\", \"Accuracy_score\"]) "
   ]
  },
  {
   "cell_type": "code",
   "execution_count": 28,
   "metadata": {},
   "outputs": [
    {
     "data": {
      "text/html": [
       "<div>\n",
       "<style scoped>\n",
       "    .dataframe tbody tr th:only-of-type {\n",
       "        vertical-align: middle;\n",
       "    }\n",
       "\n",
       "    .dataframe tbody tr th {\n",
       "        vertical-align: top;\n",
       "    }\n",
       "\n",
       "    .dataframe thead th {\n",
       "        text-align: right;\n",
       "    }\n",
       "</style>\n",
       "<table border=\"1\" class=\"dataframe\">\n",
       "  <thead>\n",
       "    <tr style=\"text-align: right;\">\n",
       "      <th></th>\n",
       "      <th>Modelos</th>\n",
       "      <th>Accuracy_score</th>\n",
       "    </tr>\n",
       "  </thead>\n",
       "  <tbody>\n",
       "    <tr>\n",
       "      <th>0</th>\n",
       "      <td>SVC(C=0.1, cache_size=200, class_weight=None, ...</td>\n",
       "      <td>0.614072</td>\n",
       "    </tr>\n",
       "    <tr>\n",
       "      <th>1</th>\n",
       "      <td>(DecisionTreeClassifier(class_weight=None, cri...</td>\n",
       "      <td>0.586354</td>\n",
       "    </tr>\n",
       "    <tr>\n",
       "      <th>2</th>\n",
       "      <td>MultinomialNB(alpha=1.0, class_prior=None, fit...</td>\n",
       "      <td>0.618337</td>\n",
       "    </tr>\n",
       "    <tr>\n",
       "      <th>3</th>\n",
       "      <td>LogisticRegression(C=0.5, class_weight=None, d...</td>\n",
       "      <td>0.603412</td>\n",
       "    </tr>\n",
       "    <tr>\n",
       "      <th>4</th>\n",
       "      <td>([DecisionTreeRegressor(criterion='friedman_ms...</td>\n",
       "      <td>0.579957</td>\n",
       "    </tr>\n",
       "    <tr>\n",
       "      <th>5</th>\n",
       "      <td>LinearSVC(C=1.0, class_weight=None, dual=True,...</td>\n",
       "      <td>0.611940</td>\n",
       "    </tr>\n",
       "  </tbody>\n",
       "</table>\n",
       "</div>"
      ],
      "text/plain": [
       "                                             Modelos  Accuracy_score\n",
       "0  SVC(C=0.1, cache_size=200, class_weight=None, ...        0.614072\n",
       "1  (DecisionTreeClassifier(class_weight=None, cri...        0.586354\n",
       "2  MultinomialNB(alpha=1.0, class_prior=None, fit...        0.618337\n",
       "3  LogisticRegression(C=0.5, class_weight=None, d...        0.603412\n",
       "4  ([DecisionTreeRegressor(criterion='friedman_ms...        0.579957\n",
       "5  LinearSVC(C=1.0, class_weight=None, dual=True,...        0.611940"
      ]
     },
     "execution_count": 28,
     "metadata": {},
     "output_type": "execute_result"
    }
   ],
   "source": [
    "df"
   ]
  },
  {
   "cell_type": "code",
   "execution_count": null,
   "metadata": {},
   "outputs": [],
   "source": []
  },
  {
   "cell_type": "code",
   "execution_count": null,
   "metadata": {},
   "outputs": [],
   "source": []
  }
 ],
 "metadata": {
  "kernelspec": {
   "display_name": "Python 3",
   "language": "python",
   "name": "python3"
  },
  "language_info": {
   "codemirror_mode": {
    "name": "ipython",
    "version": 3
   },
   "file_extension": ".py",
   "mimetype": "text/x-python",
   "name": "python",
   "nbconvert_exporter": "python",
   "pygments_lexer": "ipython3",
   "version": "3.7.4"
  }
 },
 "nbformat": 4,
 "nbformat_minor": 2
}
