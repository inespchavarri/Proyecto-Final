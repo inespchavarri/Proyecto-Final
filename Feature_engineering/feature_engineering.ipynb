{
 "cells": [
  {
   "cell_type": "code",
   "execution_count": 25,
   "metadata": {},
   "outputs": [],
   "source": [
    "import pandas as pd\n",
    "from sklearn.feature_extraction.text import TfidfVectorizer\n",
    "from sklearn.model_selection import train_test_split"
   ]
  },
  {
   "cell_type": "code",
   "execution_count": 26,
   "metadata": {},
   "outputs": [],
   "source": [
    "data = pd.read_csv(\"../output/data_2019.csv\")"
   ]
  },
  {
   "cell_type": "code",
   "execution_count": 27,
   "metadata": {},
   "outputs": [
    {
     "data": {
      "text/html": [
       "<div>\n",
       "<style scoped>\n",
       "    .dataframe tbody tr th:only-of-type {\n",
       "        vertical-align: middle;\n",
       "    }\n",
       "\n",
       "    .dataframe tbody tr th {\n",
       "        vertical-align: top;\n",
       "    }\n",
       "\n",
       "    .dataframe thead th {\n",
       "        text-align: right;\n",
       "    }\n",
       "</style>\n",
       "<table border=\"1\" class=\"dataframe\">\n",
       "  <thead>\n",
       "    <tr style=\"text-align: right;\">\n",
       "      <th></th>\n",
       "      <th>fecha</th>\n",
       "      <th>titulo</th>\n",
       "      <th>texto</th>\n",
       "      <th>etiquetas</th>\n",
       "      <th>categoria</th>\n",
       "    </tr>\n",
       "  </thead>\n",
       "  <tbody>\n",
       "    <tr>\n",
       "      <th>0</th>\n",
       "      <td>2015-10-01</td>\n",
       "      <td>'El feminismo como igualdad'</td>\n",
       "      <td>viv pais 63 habit opin mujer aptas desarroll t...</td>\n",
       "      <td>otros</td>\n",
       "      <td>0</td>\n",
       "    </tr>\n",
       "    <tr>\n",
       "      <th>1</th>\n",
       "      <td>2015-10-01</td>\n",
       "      <td>'Pedimos\\ndiálogo'</td>\n",
       "      <td>catalan habl bander call sin vot urnas aclar m...</td>\n",
       "      <td>politica</td>\n",
       "      <td>1</td>\n",
       "    </tr>\n",
       "    <tr>\n",
       "      <th>2</th>\n",
       "      <td>2015-10-01</td>\n",
       "      <td>'Alcobendas'</td>\n",
       "      <td>agradezc pais espaci dedic inquietud 376 mayor...</td>\n",
       "      <td>politica</td>\n",
       "      <td>1</td>\n",
       "    </tr>\n",
       "    <tr>\n",
       "      <th>3</th>\n",
       "      <td>2015-10-01</td>\n",
       "      <td>'Nueva fábula\\nde la lechera'</td>\n",
       "      <td>camin merc lecher punt derram lech final consi...</td>\n",
       "      <td>otros</td>\n",
       "      <td>0</td>\n",
       "    </tr>\n",
       "    <tr>\n",
       "      <th>4</th>\n",
       "      <td>2015-10-02</td>\n",
       "      <td>'En defensa de la historia'</td>\n",
       "      <td>escrib cart defens histori hac anos sistem edu...</td>\n",
       "      <td>politica</td>\n",
       "      <td>1</td>\n",
       "    </tr>\n",
       "  </tbody>\n",
       "</table>\n",
       "</div>"
      ],
      "text/plain": [
       "        fecha                          titulo  \\\n",
       "0  2015-10-01    'El feminismo como igualdad'   \n",
       "1  2015-10-01              'Pedimos\\ndiálogo'   \n",
       "2  2015-10-01                    'Alcobendas'   \n",
       "3  2015-10-01   'Nueva fábula\\nde la lechera'   \n",
       "4  2015-10-02     'En defensa de la historia'   \n",
       "\n",
       "                                               texto etiquetas  categoria  \n",
       "0  viv pais 63 habit opin mujer aptas desarroll t...     otros          0  \n",
       "1  catalan habl bander call sin vot urnas aclar m...  politica          1  \n",
       "2  agradezc pais espaci dedic inquietud 376 mayor...  politica          1  \n",
       "3  camin merc lecher punt derram lech final consi...     otros          0  \n",
       "4  escrib cart defens histori hac anos sistem edu...  politica          1  "
      ]
     },
     "execution_count": 27,
     "metadata": {},
     "output_type": "execute_result"
    }
   ],
   "source": [
    "data.head()"
   ]
  },
  {
   "cell_type": "code",
   "execution_count": 28,
   "metadata": {},
   "outputs": [
    {
     "data": {
      "text/plain": [
       "(3288, 5)"
      ]
     },
     "execution_count": 28,
     "metadata": {},
     "output_type": "execute_result"
    }
   ],
   "source": [
    "data.shape"
   ]
  },
  {
   "cell_type": "code",
   "execution_count": 29,
   "metadata": {},
   "outputs": [],
   "source": [
    "X = data[\"texto\"].astype(\"U\")"
   ]
  },
  {
   "cell_type": "code",
   "execution_count": 30,
   "metadata": {},
   "outputs": [
    {
     "data": {
      "text/plain": [
       "(3288,)"
      ]
     },
     "execution_count": 30,
     "metadata": {},
     "output_type": "execute_result"
    }
   ],
   "source": [
    "X.shape"
   ]
  },
  {
   "cell_type": "code",
   "execution_count": 31,
   "metadata": {},
   "outputs": [],
   "source": [
    "y = data[\"categoria\"]"
   ]
  },
  {
   "cell_type": "code",
   "execution_count": 32,
   "metadata": {},
   "outputs": [
    {
     "data": {
      "text/plain": [
       "(3288,)"
      ]
     },
     "execution_count": 32,
     "metadata": {},
     "output_type": "execute_result"
    }
   ],
   "source": [
    "y.shape"
   ]
  },
  {
   "cell_type": "code",
   "execution_count": 33,
   "metadata": {},
   "outputs": [],
   "source": [
    "X_train, X_test, y_train, y_test = train_test_split(X, y, test_size=0.2, random_state=42)"
   ]
  },
  {
   "cell_type": "code",
   "execution_count": 34,
   "metadata": {},
   "outputs": [
    {
     "name": "stdout",
     "output_type": "stream",
     "text": [
      "Shape X_train is: (2630,)\n",
      "Shape X_test is: (658,)\n",
      "Shape y_train is: (2630,)\n",
      "Shape y_test is: (658,)\n"
     ]
    }
   ],
   "source": [
    "print(\"Shape X_train is: {}\".format(X_train.shape))\n",
    "print(\"Shape X_test is: {}\".format(X_test.shape))\n",
    "print(\"Shape y_train is: {}\".format(y_train.shape))\n",
    "print(\"Shape y_test is: {}\".format(y_test.shape))"
   ]
  },
  {
   "cell_type": "code",
   "execution_count": 35,
   "metadata": {},
   "outputs": [],
   "source": [
    "# Convierto X a vectores"
   ]
  },
  {
   "cell_type": "code",
   "execution_count": 36,
   "metadata": {},
   "outputs": [],
   "source": [
    "ngram_range = (1,2)\n",
    "min_df = 5\n",
    "max_df = 0.9\n",
    "max_features = 100"
   ]
  },
  {
   "cell_type": "code",
   "execution_count": 37,
   "metadata": {},
   "outputs": [],
   "source": [
    "tfidf = TfidfVectorizer(ngram_range=ngram_range,\n",
    "                        stop_words=None,\n",
    "                        lowercase=False,\n",
    "                        max_df=max_df,\n",
    "                        min_df=min_df,\n",
    "                        max_features=max_features,\n",
    "                        norm='l2',\n",
    "                        sublinear_tf=True)"
   ]
  },
  {
   "cell_type": "code",
   "execution_count": 38,
   "metadata": {},
   "outputs": [],
   "source": [
    "X_train = tfidf.fit_transform(X_train).toarray()"
   ]
  },
  {
   "cell_type": "code",
   "execution_count": 39,
   "metadata": {},
   "outputs": [],
   "source": [
    "X_test = tfidf.transform(X_test).toarray()"
   ]
  },
  {
   "cell_type": "code",
   "execution_count": null,
   "metadata": {},
   "outputs": [],
   "source": []
  },
  {
   "cell_type": "code",
   "execution_count": 40,
   "metadata": {},
   "outputs": [],
   "source": [
    "# Mismo proceso para los datos de 1996"
   ]
  },
  {
   "cell_type": "code",
   "execution_count": 41,
   "metadata": {},
   "outputs": [],
   "source": [
    "data_1996 = pd.read_csv(\"../output/data_1996.csv\")"
   ]
  },
  {
   "cell_type": "code",
   "execution_count": 42,
   "metadata": {},
   "outputs": [
    {
     "data": {
      "text/html": [
       "<div>\n",
       "<style scoped>\n",
       "    .dataframe tbody tr th:only-of-type {\n",
       "        vertical-align: middle;\n",
       "    }\n",
       "\n",
       "    .dataframe tbody tr th {\n",
       "        vertical-align: top;\n",
       "    }\n",
       "\n",
       "    .dataframe thead th {\n",
       "        text-align: right;\n",
       "    }\n",
       "</style>\n",
       "<table border=\"1\" class=\"dataframe\">\n",
       "  <thead>\n",
       "    <tr style=\"text-align: right;\">\n",
       "      <th></th>\n",
       "      <th>fecha</th>\n",
       "      <th>titulo</th>\n",
       "      <th>texto</th>\n",
       "      <th>etiquetas</th>\n",
       "      <th>categoria</th>\n",
       "    </tr>\n",
       "  </thead>\n",
       "  <tbody>\n",
       "    <tr>\n",
       "      <th>0</th>\n",
       "      <td>1996-10-01</td>\n",
       "      <td>'Protesta'</td>\n",
       "      <td>comentari fot pap port 23 septiembr lee poc mi...</td>\n",
       "      <td>politica</td>\n",
       "      <td>1</td>\n",
       "    </tr>\n",
       "    <tr>\n",
       "      <th>1</th>\n",
       "      <td>1996-10-01</td>\n",
       "      <td>'Derechos de los niños'</td>\n",
       "      <td>nunc entend derech nin tan import adult articu...</td>\n",
       "      <td>politica</td>\n",
       "      <td>1</td>\n",
       "    </tr>\n",
       "    <tr>\n",
       "      <th>2</th>\n",
       "      <td>1996-10-01</td>\n",
       "      <td>'Agencia Tributaria'</td>\n",
       "      <td>leer articul public dia 13 septiembr titul lla...</td>\n",
       "      <td>politica</td>\n",
       "      <td>1</td>\n",
       "    </tr>\n",
       "    <tr>\n",
       "      <th>3</th>\n",
       "      <td>1996-10-01</td>\n",
       "      <td>'Profesionales y solidaridad'</td>\n",
       "      <td>veran sid play bar cop fiest mas mill espanol ...</td>\n",
       "      <td>otros</td>\n",
       "      <td>0</td>\n",
       "    </tr>\n",
       "    <tr>\n",
       "      <th>4</th>\n",
       "      <td>1996-10-01</td>\n",
       "      <td>'Expolio'</td>\n",
       "      <td>madrilen quier manifest profund indignacion ex...</td>\n",
       "      <td>politica</td>\n",
       "      <td>1</td>\n",
       "    </tr>\n",
       "  </tbody>\n",
       "</table>\n",
       "</div>"
      ],
      "text/plain": [
       "        fecha                          titulo  \\\n",
       "0  1996-10-01                      'Protesta'   \n",
       "1  1996-10-01         'Derechos de los niños'   \n",
       "2  1996-10-01            'Agencia Tributaria'   \n",
       "3  1996-10-01   'Profesionales y solidaridad'   \n",
       "4  1996-10-01                       'Expolio'   \n",
       "\n",
       "                                               texto etiquetas  categoria  \n",
       "0  comentari fot pap port 23 septiembr lee poc mi...  politica          1  \n",
       "1  nunc entend derech nin tan import adult articu...  politica          1  \n",
       "2  leer articul public dia 13 septiembr titul lla...  politica          1  \n",
       "3  veran sid play bar cop fiest mas mill espanol ...     otros          0  \n",
       "4  madrilen quier manifest profund indignacion ex...  politica          1  "
      ]
     },
     "execution_count": 42,
     "metadata": {},
     "output_type": "execute_result"
    }
   ],
   "source": [
    "data_1996.head()"
   ]
  },
  {
   "cell_type": "code",
   "execution_count": 43,
   "metadata": {},
   "outputs": [
    {
     "data": {
      "text/plain": [
       "(469, 5)"
      ]
     },
     "execution_count": 43,
     "metadata": {},
     "output_type": "execute_result"
    }
   ],
   "source": [
    "data_1996.shape"
   ]
  },
  {
   "cell_type": "code",
   "execution_count": 44,
   "metadata": {},
   "outputs": [],
   "source": [
    "X_1996 = data_1996[\"texto\"].astype(\"U\")"
   ]
  },
  {
   "cell_type": "code",
   "execution_count": 45,
   "metadata": {},
   "outputs": [],
   "source": [
    "y_1996 = data_1996[\"categoria\"]"
   ]
  },
  {
   "cell_type": "code",
   "execution_count": 46,
   "metadata": {},
   "outputs": [],
   "source": [
    "X_1996 = tfidf.fit_transform(X_1996).toarray()"
   ]
  },
  {
   "cell_type": "code",
   "execution_count": null,
   "metadata": {},
   "outputs": [],
   "source": []
  },
  {
   "cell_type": "code",
   "execution_count": 22,
   "metadata": {},
   "outputs": [],
   "source": [
    "# exporto los datos"
   ]
  },
  {
   "cell_type": "code",
   "execution_count": 47,
   "metadata": {},
   "outputs": [],
   "source": [
    "import pickle"
   ]
  },
  {
   "cell_type": "code",
   "execution_count": 48,
   "metadata": {},
   "outputs": [],
   "source": [
    "# db\n",
    "with open(\"../pickle/data.pickle\", \"wb\") as output:\n",
    "    pickle.dump(data, output)\n",
    "\n",
    "# db_1996\n",
    "with open(\"../pickle/data_1996.pickle\", \"wb\") as output:\n",
    "    pickle.dump(data_1996, output)\n",
    "\n",
    "# X_train\n",
    "with open(\"../pickle/X_train.pickle\", \"wb\") as output:\n",
    "    pickle.dump(X_train, output)\n",
    "    \n",
    "# X_test    \n",
    "with open(\"../pickle/X_test.pickle\", \"wb\") as output:\n",
    "    pickle.dump(X_test, output)\n",
    "    \n",
    "# y_train\n",
    "with open(\"../pickle/y_train.pickle\", \"wb\") as output:\n",
    "    pickle.dump(y_train, output)\n",
    "    \n",
    "# y_test\n",
    "with open(\"../pickle/y_test.pickle\", \"wb\") as output:\n",
    "    pickle.dump(y_test, output)\n",
    "\n",
    "# X_1996\n",
    "with open(\"../pickle/X_1996.pickle\", \"wb\") as output:\n",
    "    pickle.dump(X_1996, output)\n",
    "    \n",
    "# y_1996\n",
    "with open(\"../pickle/y_1996.pickle\", \"wb\") as output:\n",
    "    pickle.dump(y_1996, output)\n",
    "    \n",
    "# TF-IDF object\n",
    "with open(\"../pickle/tfidf.pickle\", \"wb\") as output:\n",
    "    pickle.dump(tfidf, output)"
   ]
  },
  {
   "cell_type": "code",
   "execution_count": null,
   "metadata": {},
   "outputs": [],
   "source": []
  }
 ],
 "metadata": {
  "kernelspec": {
   "display_name": "Python 3",
   "language": "python",
   "name": "python3"
  },
  "language_info": {
   "codemirror_mode": {
    "name": "ipython",
    "version": 3
   },
   "file_extension": ".py",
   "mimetype": "text/x-python",
   "name": "python",
   "nbconvert_exporter": "python",
   "pygments_lexer": "ipython3",
   "version": "3.7.4"
  }
 },
 "nbformat": 4,
 "nbformat_minor": 2
}
