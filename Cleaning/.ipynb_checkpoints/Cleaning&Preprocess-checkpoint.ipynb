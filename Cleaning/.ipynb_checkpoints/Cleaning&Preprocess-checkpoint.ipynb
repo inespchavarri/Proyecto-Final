{
 "cells": [
  {
   "cell_type": "code",
   "execution_count": 24,
   "metadata": {},
   "outputs": [],
   "source": [
    "import pandas as pd\n",
    "import re\n",
    "import unidecode\n",
    "import nltk\n",
    "from nltk.tokenize import word_tokenize as wtoken\n",
    "from nltk.corpus import stopwords\n",
    "from nltk.stem import SnowballStemmer\n",
    "from clean import removeChar, lowText, removeAccents, tokenWords, remStopWords, wordStem"
   ]
  },
  {
   "cell_type": "code",
   "execution_count": 13,
   "metadata": {},
   "outputs": [],
   "source": [
    "data = pd.read_csv(\"../input/clean_data.csv\")"
   ]
  },
  {
   "cell_type": "code",
   "execution_count": 7,
   "metadata": {},
   "outputs": [],
   "source": [
    "# Inspección csv"
   ]
  },
  {
   "cell_type": "code",
   "execution_count": 14,
   "metadata": {},
   "outputs": [
    {
     "data": {
      "text/html": [
       "<div>\n",
       "<style scoped>\n",
       "    .dataframe tbody tr th:only-of-type {\n",
       "        vertical-align: middle;\n",
       "    }\n",
       "\n",
       "    .dataframe tbody tr th {\n",
       "        vertical-align: top;\n",
       "    }\n",
       "\n",
       "    .dataframe thead th {\n",
       "        text-align: right;\n",
       "    }\n",
       "</style>\n",
       "<table border=\"1\" class=\"dataframe\">\n",
       "  <thead>\n",
       "    <tr style=\"text-align: right;\">\n",
       "      <th></th>\n",
       "      <th>Unnamed: 0</th>\n",
       "      <th>fecha</th>\n",
       "      <th>titulo</th>\n",
       "      <th>texto</th>\n",
       "      <th>etiquetas</th>\n",
       "    </tr>\n",
       "  </thead>\n",
       "  <tbody>\n",
       "    <tr>\n",
       "      <th>0</th>\n",
       "      <td>28</td>\n",
       "      <td>1976-05-09</td>\n",
       "      <td>'Al director'</td>\n",
       "      <td>'La imagen que el primer periódico francés of...</td>\n",
       "      <td>['Opinión', 'Periódicos', 'Política nacional',...</td>\n",
       "    </tr>\n",
       "    <tr>\n",
       "      <th>1</th>\n",
       "      <td>25</td>\n",
       "      <td>1976-05-16</td>\n",
       "      <td>'Los sucesos de Montejurra'</td>\n",
       "      <td>'En el diario El País número 7 del día 11 del...</td>\n",
       "      <td>['Opinión', 'Sucesos Montejurra', 'PC', 'Parti...</td>\n",
       "    </tr>\n",
       "    <tr>\n",
       "      <th>2</th>\n",
       "      <td>24</td>\n",
       "      <td>1976-05-16</td>\n",
       "      <td>'Utrera no retiró la firma'</td>\n",
       "      <td>'En el diario que usted dirige en el número c...</td>\n",
       "      <td>['Gobierno predemocrático', 'Opinión', 'Políti...</td>\n",
       "    </tr>\n",
       "    <tr>\n",
       "      <th>3</th>\n",
       "      <td>23</td>\n",
       "      <td>1976-05-16</td>\n",
       "      <td>'Descapitalización del Estado'</td>\n",
       "      <td>'La banca en al capital del Reino cierra prem...</td>\n",
       "      <td>['Opinión', 'Banca', 'Finanzas']</td>\n",
       "    </tr>\n",
       "    <tr>\n",
       "      <th>4</th>\n",
       "      <td>26</td>\n",
       "      <td>1976-05-16</td>\n",
       "      <td>'Causa Ciudadana'</td>\n",
       "      <td>'Al fin de completar la información que figur...</td>\n",
       "      <td>['ID', 'Opinión', 'Partidos políticos', 'Polít...</td>\n",
       "    </tr>\n",
       "  </tbody>\n",
       "</table>\n",
       "</div>"
      ],
      "text/plain": [
       "   Unnamed: 0       fecha                           titulo  \\\n",
       "0          28  1976-05-09                    'Al director'   \n",
       "1          25  1976-05-16      'Los sucesos de Montejurra'   \n",
       "2          24  1976-05-16      'Utrera no retiró la firma'   \n",
       "3          23  1976-05-16   'Descapitalización del Estado'   \n",
       "4          26  1976-05-16                'Causa Ciudadana'   \n",
       "\n",
       "                                               texto  \\\n",
       "0   'La imagen que el primer periódico francés of...   \n",
       "1   'En el diario El País número 7 del día 11 del...   \n",
       "2   'En el diario que usted dirige en el número c...   \n",
       "3   'La banca en al capital del Reino cierra prem...   \n",
       "4   'Al fin de completar la información que figur...   \n",
       "\n",
       "                                           etiquetas  \n",
       "0  ['Opinión', 'Periódicos', 'Política nacional',...  \n",
       "1  ['Opinión', 'Sucesos Montejurra', 'PC', 'Parti...  \n",
       "2  ['Gobierno predemocrático', 'Opinión', 'Políti...  \n",
       "3                   ['Opinión', 'Banca', 'Finanzas']  \n",
       "4  ['ID', 'Opinión', 'Partidos políticos', 'Polít...  "
      ]
     },
     "execution_count": 14,
     "metadata": {},
     "output_type": "execute_result"
    }
   ],
   "source": [
    "data.head()"
   ]
  },
  {
   "cell_type": "code",
   "execution_count": 15,
   "metadata": {},
   "outputs": [],
   "source": [
    "data = data.drop([\"Unnamed: 0\"], axis=1)"
   ]
  },
  {
   "cell_type": "code",
   "execution_count": 16,
   "metadata": {},
   "outputs": [
    {
     "data": {
      "text/plain": [
       "(71993, 4)"
      ]
     },
     "execution_count": 16,
     "metadata": {},
     "output_type": "execute_result"
    }
   ],
   "source": [
    "data.shape"
   ]
  },
  {
   "cell_type": "code",
   "execution_count": null,
   "metadata": {},
   "outputs": [],
   "source": []
  },
  {
   "cell_type": "code",
   "execution_count": null,
   "metadata": {},
   "outputs": [],
   "source": [
    "# Preparación columna texto y etiquetas"
   ]
  },
  {
   "cell_type": "code",
   "execution_count": null,
   "metadata": {},
   "outputs": [],
   "source": [
    "# Limpieza de todos los caracteres que no sean ni letras ni números"
   ]
  },
  {
   "cell_type": "code",
   "execution_count": 27,
   "metadata": {},
   "outputs": [],
   "source": [
    "def removeChar(data):\n",
    "    # Función para eliminar todos los caraceteres que no sean ni letras, ni números\n",
    "\n",
    "    if type(data) == str:\n",
    "        result = re.sub(\"[\\W_]+\", \" \", data)\n",
    "        result = result.strip()\n",
    "        return result\n",
    "    else:\n",
    "        result = []\n",
    "        for element in data:\n",
    "            element = re.sub(\"[\\W_]+\", \" \", element)\n",
    "            element = element.strip()\n",
    "            result.append(element)\n",
    "        return result"
   ]
  },
  {
   "cell_type": "code",
   "execution_count": 28,
   "metadata": {},
   "outputs": [],
   "source": [
    "data[\"texto\"] = data[\"texto\"].apply(removeChar)"
   ]
  },
  {
   "cell_type": "code",
   "execution_count": 29,
   "metadata": {},
   "outputs": [],
   "source": [
    "data[\"etiquetas\"] = data[\"etiquetas\"].apply(removeChar)"
   ]
  },
  {
   "cell_type": "code",
   "execution_count": 30,
   "metadata": {},
   "outputs": [],
   "source": [
    "# pasar todo el texto a minúscula"
   ]
  },
  {
   "cell_type": "code",
   "execution_count": 31,
   "metadata": {},
   "outputs": [],
   "source": [
    "def lowText(data):\n",
    "    #Función para que el texto esté ni minuscula\n",
    "    if type(data) == str:\n",
    "        result = data.lower()\n",
    "        return result.strip()\n",
    "    else:\n",
    "        result = []\n",
    "        for element in data:\n",
    "            element = element.lower()\n",
    "            element = element.strip()\n",
    "            result.append(element)\n",
    "        return result"
   ]
  },
  {
   "cell_type": "code",
   "execution_count": 32,
   "metadata": {},
   "outputs": [],
   "source": [
    "data[\"texto\"] = data[\"texto\"].apply(lowText)"
   ]
  },
  {
   "cell_type": "code",
   "execution_count": 33,
   "metadata": {},
   "outputs": [],
   "source": [
    "data[\"etiquetas\"] = data[\"etiquetas\"].apply(lowText)"
   ]
  },
  {
   "cell_type": "code",
   "execution_count": 34,
   "metadata": {},
   "outputs": [],
   "source": [
    "# quitar acentos"
   ]
  },
  {
   "cell_type": "code",
   "execution_count": 35,
   "metadata": {},
   "outputs": [],
   "source": [
    "def removeAccents(data):\n",
    "    # función para quitar los acentos\n",
    "    if type(data) == str:\n",
    "        unaccented_data = unidecode.unidecode(data)\n",
    "        return unaccented_data\n",
    "    else:\n",
    "        result = []\n",
    "        for element in data:\n",
    "            result.append(unidecode.unidecode(element))\n",
    "        return result"
   ]
  },
  {
   "cell_type": "code",
   "execution_count": 37,
   "metadata": {},
   "outputs": [],
   "source": [
    "data[\"texto\"] = data[\"texto\"].apply(removeAccents)"
   ]
  },
  {
   "cell_type": "code",
   "execution_count": 36,
   "metadata": {},
   "outputs": [],
   "source": [
    "data[\"etiquetas\"] = data[\"etiquetas\"].apply(removeAccents)"
   ]
  },
  {
   "cell_type": "code",
   "execution_count": 38,
   "metadata": {},
   "outputs": [],
   "source": [
    "# Tokenizacion"
   ]
  },
  {
   "cell_type": "code",
   "execution_count": 39,
   "metadata": {},
   "outputs": [],
   "source": [
    "def tokenWords(data):\n",
    "    # función para obtener los tokens\n",
    "    data = wtoken(data)\n",
    "    return data"
   ]
  },
  {
   "cell_type": "code",
   "execution_count": 40,
   "metadata": {},
   "outputs": [],
   "source": [
    "data[\"texto\"] = data[\"texto\"].apply(tokenWords)"
   ]
  },
  {
   "cell_type": "code",
   "execution_count": 41,
   "metadata": {},
   "outputs": [],
   "source": [
    "# Stop Words"
   ]
  },
  {
   "cell_type": "code",
   "execution_count": 42,
   "metadata": {},
   "outputs": [],
   "source": [
    "def remStopWords(data):\n",
    "    #función para quitar las stopwords\n",
    "    data_stopwords = []\n",
    "    for word in data:\n",
    "        if word not in stopwords.words(\"spanish\"):\n",
    "            data_stopwords.append(word)\n",
    "            \n",
    "    return data_stopwords"
   ]
  },
  {
   "cell_type": "code",
   "execution_count": 43,
   "metadata": {},
   "outputs": [],
   "source": [
    "data[\"texto\"] = data[\"texto\"].apply(remStopWords)"
   ]
  },
  {
   "cell_type": "code",
   "execution_count": null,
   "metadata": {},
   "outputs": [],
   "source": [
    "# Stem"
   ]
  },
  {
   "cell_type": "code",
   "execution_count": 44,
   "metadata": {},
   "outputs": [],
   "source": [
    "def wordStem(data):\n",
    "    # función para stem\n",
    "    data_stem = []\n",
    "    stemmer = SnowballStemmer(\"spanish\")\n",
    "    for item in data:\n",
    "        data_stem.append(stemmer.stem(item))\n",
    "   \n",
    "    return \" \".join(data_stem)"
   ]
  },
  {
   "cell_type": "code",
   "execution_count": 45,
   "metadata": {},
   "outputs": [],
   "source": [
    "data[\"texto\"] = data[\"texto\"].apply(wordStem)"
   ]
  },
  {
   "cell_type": "code",
   "execution_count": 46,
   "metadata": {},
   "outputs": [],
   "source": [
    "# Limpieza columna etiquetas. Con la etiqueta política agrupo todas las cartas que originalmente cuentan con esa\n",
    "# etiqueta. Bajo la etiqueta otros se agrupan el resto"
   ]
  },
  {
   "cell_type": "code",
   "execution_count": 47,
   "metadata": {},
   "outputs": [],
   "source": [
    "def cleanLabels(data):\n",
    "    if 'politica' in data:\n",
    "        data = data.replace(data, 'politica')\n",
    "        return data\n",
    "    else:\n",
    "        data = data.replace(data, 'otros')\n",
    "        return data"
   ]
  },
  {
   "cell_type": "code",
   "execution_count": 48,
   "metadata": {},
   "outputs": [],
   "source": [
    "data[\"etiquetas\"] = data[\"etiquetas\"].apply(cleanLabels)"
   ]
  },
  {
   "cell_type": "code",
   "execution_count": 49,
   "metadata": {},
   "outputs": [
    {
     "data": {
      "text/plain": [
       "otros       41728\n",
       "politica    30265\n",
       "Name: etiquetas, dtype: int64"
      ]
     },
     "execution_count": 49,
     "metadata": {},
     "output_type": "execute_result"
    }
   ],
   "source": [
    "data[\"etiquetas\"].value_counts()"
   ]
  },
  {
   "cell_type": "code",
   "execution_count": 51,
   "metadata": {},
   "outputs": [],
   "source": [
    "# Creo una nueva columna con la que asigno un 1 a las cartas etiquetadas como política, y un cero a las que no lo son\n",
    "categorias = {\n",
    "    \"politica\" : 1,\n",
    "    \"otros\" : 0\n",
    "}"
   ]
  },
  {
   "cell_type": "code",
   "execution_count": 52,
   "metadata": {},
   "outputs": [],
   "source": [
    "data[\"categoria\"] = data[\"etiquetas\"]"
   ]
  },
  {
   "cell_type": "code",
   "execution_count": 53,
   "metadata": {},
   "outputs": [],
   "source": [
    "data = data.replace({\"categoria\":categorias})"
   ]
  },
  {
   "cell_type": "code",
   "execution_count": 54,
   "metadata": {},
   "outputs": [],
   "source": [
    "# Divido el dataset en dos. Con las cartas escritas entre 2015 y 2019 entrenará los modelos y con las\n",
    "# escritas en 1996, comprobaré el nivel de acierto"
   ]
  },
  {
   "cell_type": "code",
   "execution_count": 55,
   "metadata": {},
   "outputs": [],
   "source": [
    "mask_2019 = (data[\"fecha\"] >= \"2015-1-1\") & (data[\"fecha\"] <= \"2019-09-30\")"
   ]
  },
  {
   "cell_type": "code",
   "execution_count": 56,
   "metadata": {},
   "outputs": [],
   "source": [
    "mask_1996 = (data[\"fecha\"] >= \"1996-1-1\") & (data[\"fecha\"] <= \"1996-12-31\")"
   ]
  },
  {
   "cell_type": "code",
   "execution_count": 71,
   "metadata": {},
   "outputs": [],
   "source": [
    "data_2019 = data.loc[mask_2019]"
   ]
  },
  {
   "cell_type": "code",
   "execution_count": 72,
   "metadata": {},
   "outputs": [
    {
     "data": {
      "text/html": [
       "<div>\n",
       "<style scoped>\n",
       "    .dataframe tbody tr th:only-of-type {\n",
       "        vertical-align: middle;\n",
       "    }\n",
       "\n",
       "    .dataframe tbody tr th {\n",
       "        vertical-align: top;\n",
       "    }\n",
       "\n",
       "    .dataframe thead th {\n",
       "        text-align: right;\n",
       "    }\n",
       "</style>\n",
       "<table border=\"1\" class=\"dataframe\">\n",
       "  <thead>\n",
       "    <tr style=\"text-align: right;\">\n",
       "      <th></th>\n",
       "      <th>fecha</th>\n",
       "      <th>titulo</th>\n",
       "      <th>texto</th>\n",
       "      <th>etiquetas</th>\n",
       "      <th>categoria</th>\n",
       "    </tr>\n",
       "  </thead>\n",
       "  <tbody>\n",
       "    <tr>\n",
       "      <th>68701</th>\n",
       "      <td>2015-10-01</td>\n",
       "      <td>'El feminismo como igualdad'</td>\n",
       "      <td>viv pais 63 habit opin mujer aptas desarroll t...</td>\n",
       "      <td>otros</td>\n",
       "      <td>0</td>\n",
       "    </tr>\n",
       "    <tr>\n",
       "      <th>68702</th>\n",
       "      <td>2015-10-01</td>\n",
       "      <td>'Pedimos\\ndiálogo'</td>\n",
       "      <td>catalan habl bander call sin vot urnas aclar m...</td>\n",
       "      <td>politica</td>\n",
       "      <td>1</td>\n",
       "    </tr>\n",
       "    <tr>\n",
       "      <th>68703</th>\n",
       "      <td>2015-10-01</td>\n",
       "      <td>'Alcobendas'</td>\n",
       "      <td>agradezc pais espaci dedic inquietud 376 mayor...</td>\n",
       "      <td>politica</td>\n",
       "      <td>1</td>\n",
       "    </tr>\n",
       "    <tr>\n",
       "      <th>68704</th>\n",
       "      <td>2015-10-01</td>\n",
       "      <td>'Nueva fábula\\nde la lechera'</td>\n",
       "      <td>camin merc lecher punt derram lech final consi...</td>\n",
       "      <td>otros</td>\n",
       "      <td>0</td>\n",
       "    </tr>\n",
       "    <tr>\n",
       "      <th>68705</th>\n",
       "      <td>2015-10-02</td>\n",
       "      <td>'En defensa de la historia'</td>\n",
       "      <td>escrib cart defens histori hac anos sistem edu...</td>\n",
       "      <td>politica</td>\n",
       "      <td>1</td>\n",
       "    </tr>\n",
       "  </tbody>\n",
       "</table>\n",
       "</div>"
      ],
      "text/plain": [
       "            fecha                          titulo  \\\n",
       "68701  2015-10-01    'El feminismo como igualdad'   \n",
       "68702  2015-10-01              'Pedimos\\ndiálogo'   \n",
       "68703  2015-10-01                    'Alcobendas'   \n",
       "68704  2015-10-01   'Nueva fábula\\nde la lechera'   \n",
       "68705  2015-10-02     'En defensa de la historia'   \n",
       "\n",
       "                                                   texto etiquetas  categoria  \n",
       "68701  viv pais 63 habit opin mujer aptas desarroll t...     otros          0  \n",
       "68702  catalan habl bander call sin vot urnas aclar m...  politica          1  \n",
       "68703  agradezc pais espaci dedic inquietud 376 mayor...  politica          1  \n",
       "68704  camin merc lecher punt derram lech final consi...     otros          0  \n",
       "68705  escrib cart defens histori hac anos sistem edu...  politica          1  "
      ]
     },
     "execution_count": 72,
     "metadata": {},
     "output_type": "execute_result"
    }
   ],
   "source": [
    "data_2019.head()"
   ]
  },
  {
   "cell_type": "code",
   "execution_count": 73,
   "metadata": {},
   "outputs": [
    {
     "data": {
      "text/plain": [
       "(3288, 5)"
      ]
     },
     "execution_count": 73,
     "metadata": {},
     "output_type": "execute_result"
    }
   ],
   "source": [
    "data_2019.shape"
   ]
  },
  {
   "cell_type": "code",
   "execution_count": null,
   "metadata": {},
   "outputs": [],
   "source": []
  },
  {
   "cell_type": "code",
   "execution_count": 74,
   "metadata": {},
   "outputs": [],
   "source": [
    "data_1996 = data.loc[mask_1996]"
   ]
  },
  {
   "cell_type": "code",
   "execution_count": 75,
   "metadata": {},
   "outputs": [
    {
     "data": {
      "text/html": [
       "<div>\n",
       "<style scoped>\n",
       "    .dataframe tbody tr th:only-of-type {\n",
       "        vertical-align: middle;\n",
       "    }\n",
       "\n",
       "    .dataframe tbody tr th {\n",
       "        vertical-align: top;\n",
       "    }\n",
       "\n",
       "    .dataframe thead th {\n",
       "        text-align: right;\n",
       "    }\n",
       "</style>\n",
       "<table border=\"1\" class=\"dataframe\">\n",
       "  <thead>\n",
       "    <tr style=\"text-align: right;\">\n",
       "      <th></th>\n",
       "      <th>fecha</th>\n",
       "      <th>titulo</th>\n",
       "      <th>texto</th>\n",
       "      <th>etiquetas</th>\n",
       "      <th>categoria</th>\n",
       "    </tr>\n",
       "  </thead>\n",
       "  <tbody>\n",
       "    <tr>\n",
       "      <th>32568</th>\n",
       "      <td>1996-10-01</td>\n",
       "      <td>'Protesta'</td>\n",
       "      <td>comentari fot pap port 23 septiembr lee poc mi...</td>\n",
       "      <td>politica</td>\n",
       "      <td>1</td>\n",
       "    </tr>\n",
       "    <tr>\n",
       "      <th>32569</th>\n",
       "      <td>1996-10-01</td>\n",
       "      <td>'Derechos de los niños'</td>\n",
       "      <td>nunc entend derech nin tan import adult articu...</td>\n",
       "      <td>politica</td>\n",
       "      <td>1</td>\n",
       "    </tr>\n",
       "    <tr>\n",
       "      <th>32570</th>\n",
       "      <td>1996-10-01</td>\n",
       "      <td>'Agencia Tributaria'</td>\n",
       "      <td>leer articul public dia 13 septiembr titul lla...</td>\n",
       "      <td>politica</td>\n",
       "      <td>1</td>\n",
       "    </tr>\n",
       "    <tr>\n",
       "      <th>32571</th>\n",
       "      <td>1996-10-01</td>\n",
       "      <td>'Profesionales y solidaridad'</td>\n",
       "      <td>veran sid play bar cop fiest mas mill espanol ...</td>\n",
       "      <td>otros</td>\n",
       "      <td>0</td>\n",
       "    </tr>\n",
       "    <tr>\n",
       "      <th>32572</th>\n",
       "      <td>1996-10-01</td>\n",
       "      <td>'Expolio'</td>\n",
       "      <td>madrilen quier manifest profund indignacion ex...</td>\n",
       "      <td>politica</td>\n",
       "      <td>1</td>\n",
       "    </tr>\n",
       "  </tbody>\n",
       "</table>\n",
       "</div>"
      ],
      "text/plain": [
       "            fecha                          titulo  \\\n",
       "32568  1996-10-01                      'Protesta'   \n",
       "32569  1996-10-01         'Derechos de los niños'   \n",
       "32570  1996-10-01            'Agencia Tributaria'   \n",
       "32571  1996-10-01   'Profesionales y solidaridad'   \n",
       "32572  1996-10-01                       'Expolio'   \n",
       "\n",
       "                                                   texto etiquetas  categoria  \n",
       "32568  comentari fot pap port 23 septiembr lee poc mi...  politica          1  \n",
       "32569  nunc entend derech nin tan import adult articu...  politica          1  \n",
       "32570  leer articul public dia 13 septiembr titul lla...  politica          1  \n",
       "32571  veran sid play bar cop fiest mas mill espanol ...     otros          0  \n",
       "32572  madrilen quier manifest profund indignacion ex...  politica          1  "
      ]
     },
     "execution_count": 75,
     "metadata": {},
     "output_type": "execute_result"
    }
   ],
   "source": [
    "data_1996.head()"
   ]
  },
  {
   "cell_type": "code",
   "execution_count": 76,
   "metadata": {},
   "outputs": [
    {
     "data": {
      "text/plain": [
       "(469, 5)"
      ]
     },
     "execution_count": 76,
     "metadata": {},
     "output_type": "execute_result"
    }
   ],
   "source": [
    "data_1996.shape"
   ]
  },
  {
   "cell_type": "code",
   "execution_count": null,
   "metadata": {},
   "outputs": [],
   "source": []
  },
  {
   "cell_type": "code",
   "execution_count": null,
   "metadata": {},
   "outputs": [],
   "source": [
    "# Exporto los dos dataframes"
   ]
  },
  {
   "cell_type": "code",
   "execution_count": 77,
   "metadata": {},
   "outputs": [],
   "source": [
    "data_2019.to_csv(\"../Output/data_2019.csv\", index=False)"
   ]
  },
  {
   "cell_type": "code",
   "execution_count": 78,
   "metadata": {},
   "outputs": [],
   "source": [
    "data_1996.to_csv(\"../Output/data_1996.csv\", index=False)"
   ]
  }
 ],
 "metadata": {
  "kernelspec": {
   "display_name": "Python 3",
   "language": "python",
   "name": "python3"
  },
  "language_info": {
   "codemirror_mode": {
    "name": "ipython",
    "version": 3
   },
   "file_extension": ".py",
   "mimetype": "text/x-python",
   "name": "python",
   "nbconvert_exporter": "python",
   "pygments_lexer": "ipython3",
   "version": "3.7.4"
  }
 },
 "nbformat": 4,
 "nbformat_minor": 2
}
